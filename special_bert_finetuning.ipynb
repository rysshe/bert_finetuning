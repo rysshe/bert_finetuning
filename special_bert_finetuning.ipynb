{
 "cells": [
  {
   "cell_type": "code",
   "execution_count": 462,
   "metadata": {},
   "outputs": [],
   "source": [
    "import pandas as pd\n",
    "import numpy as np\n",
    "import torch\n",
    "import seaborn as sns\n",
    "import math\n",
    "from tqdm.auto import tqdm\n",
    "import random\n",
    "import torch.nn as nn\n",
    "import torch.optim as optim\n",
    "import torch.nn.functional as F\n",
    "from torch.optim import lr_scheduler\n",
    "\n",
    "from transformers import BertTokenizer, BertForSequenceClassification, BertModel"
   ]
  },
  {
   "cell_type": "code",
   "execution_count": null,
   "metadata": {},
   "outputs": [],
   "source": []
  },
  {
   "cell_type": "code",
   "execution_count": 227,
   "metadata": {},
   "outputs": [],
   "source": [
    "lines_train = [line.strip('\\n').rsplit(',', 1) for line in open('train.csv')]\n",
    "lines_test = [line.strip('\\n').rsplit(',', 1) for line in open('test.csv')]"
   ]
  },
  {
   "cell_type": "code",
   "execution_count": 200,
   "metadata": {},
   "outputs": [],
   "source": [
    "device = torch.device('cuda' if torch.cuda.is_available() else 'cpu')"
   ]
  },
  {
   "cell_type": "code",
   "execution_count": 305,
   "metadata": {},
   "outputs": [],
   "source": [
    "tokenizer = BertTokenizer.from_pretrained('bert-base-multilingual-cased')"
   ]
  },
  {
   "cell_type": "code",
   "execution_count": null,
   "metadata": {},
   "outputs": [],
   "source": []
  },
  {
   "cell_type": "markdown",
   "metadata": {},
   "source": [
    "Цель: зафайнтюнить берт на классификацию по контекстному эмбеддингу токена (или среднего) от ENT."
   ]
  },
  {
   "cell_type": "markdown",
   "metadata": {},
   "source": [
    "# Preparing for sequence bucketing "
   ]
  },
  {
   "cell_type": "code",
   "execution_count": 306,
   "metadata": {},
   "outputs": [],
   "source": [
    "\n",
    "def crop_len(seq):\n",
    "\n",
    "    ENT_indexes = [ind for ind, token in enumerate(seq) if token == '[MASK]']\n",
    "    if len(ENT_indexes) > 1:\n",
    "        # нужно найти среднюю точку между ENT и обрезать по ней\n",
    "        middle_point = int(np.mean([ENT_indexes[0], ENT_indexes[-1]]))\n",
    "        left = middle_point-254\n",
    "        right = middle_point+254\n",
    "        return seq[max(0,left):right]\n",
    "    ind = ENT_indexes[0]\n",
    "    if ind >= 254:\n",
    "        return seq[ind-254:ind+254]\n",
    "    remained = 254 - ind\n",
    "    return seq[:ind+254+remained]\n",
    "     \n",
    "            \n",
    "    "
   ]
  },
  {
   "cell_type": "code",
   "execution_count": 307,
   "metadata": {},
   "outputs": [
    {
     "data": {
      "application/vnd.jupyter.widget-view+json": {
       "model_id": "0711c17695ac49ad97963b63c0ffe443",
       "version_major": 2,
       "version_minor": 0
      },
      "text/plain": [
       "HBox(children=(FloatProgress(value=0.0, max=23253.0), HTML(value='')))"
      ]
     },
     "metadata": {},
     "output_type": "display_data"
    },
    {
     "name": "stdout",
     "output_type": "stream",
     "text": [
      "\n"
     ]
    }
   ],
   "source": [
    "tokenized_train = []\n",
    "labels_train = []\n",
    "\n",
    "batch_size=256\n",
    "\n",
    "for i in tqdm(lines_train):\n",
    "    tokens = tokenizer.tokenize(i[0].replace('ENT', '[MASK]'))\n",
    "    if len(tokens) > 508:\n",
    "        tokens=crop_len(tokens)\n",
    "    tokenized_train.append(tokenizer.encode(tokens))\n",
    "    labels_train.append(i[1])\n"
   ]
  },
  {
   "cell_type": "code",
   "execution_count": 308,
   "metadata": {},
   "outputs": [
    {
     "data": {
      "application/vnd.jupyter.widget-view+json": {
       "model_id": "3f8837eb44c146788d371042214b8d3f",
       "version_major": 2,
       "version_minor": 0
      },
      "text/plain": [
       "HBox(children=(FloatProgress(value=0.0, max=9966.0), HTML(value='')))"
      ]
     },
     "metadata": {},
     "output_type": "display_data"
    },
    {
     "name": "stdout",
     "output_type": "stream",
     "text": [
      "\n"
     ]
    }
   ],
   "source": [
    "tokenized_test = []\n",
    "labels_test = []\n",
    "\n",
    "batch_size=256\n",
    "\n",
    "for i in tqdm(lines_test):\n",
    "    tokens = tokenizer.tokenize(i[0].replace('ENT', '[MASK]'))\n",
    "    if len(tokens) > 508:\n",
    "        tokens=crop_len(tokens)\n",
    "    tokenized_test.append(tokenizer.encode(tokens))\n",
    "    labels_test.append(i[1])\n"
   ]
  },
  {
   "cell_type": "code",
   "execution_count": null,
   "metadata": {},
   "outputs": [],
   "source": []
  },
  {
   "cell_type": "code",
   "execution_count": 315,
   "metadata": {},
   "outputs": [],
   "source": [
    "zipped_train = zip(tokenized_train, labels_train)\n",
    "zipped_test = zip(tokenized_test, labels_test)"
   ]
  },
  {
   "cell_type": "code",
   "execution_count": 316,
   "metadata": {},
   "outputs": [],
   "source": [
    "tokenized_train = sorted(zipped_train, key=lambda x: len(x[0]), reverse=True)\n",
    "tokenized_test = sorted(zipped_test, key=lambda x: len(x[0]), reverse=True)"
   ]
  },
  {
   "cell_type": "markdown",
   "metadata": {},
   "source": [
    "# Dataset-forming"
   ]
  },
  {
   "cell_type": "code",
   "execution_count": 317,
   "metadata": {},
   "outputs": [],
   "source": [
    "batch_size = 32\n",
    "\n",
    "batches_train = []\n",
    "\n",
    "batches_test = []\n",
    "\n",
    "for i_batch in range(math.ceil(len(tokenized_train) / batch_size)):\n",
    "    \n",
    "    batches_train.append(tokenized_train[i_batch*batch_size:(i_batch+1)*batch_size])\n",
    "    \n",
    "\n",
    "for i_batch in range(math.ceil(len(tokenized_test) / batch_size)):\n",
    "    \n",
    "    batches_test.append(tokenized_test[i_batch*batch_size:(i_batch+1)*batch_size])"
   ]
  },
  {
   "cell_type": "code",
   "execution_count": 318,
   "metadata": {},
   "outputs": [],
   "source": [
    "random.shuffle(batches_train)\n",
    "random.shuffle(batches_test)"
   ]
  },
  {
   "cell_type": "code",
   "execution_count": 384,
   "metadata": {},
   "outputs": [],
   "source": [
    "class SequenceBucketingData(torch.utils.data.Dataset):\n",
    "    \n",
    "    def __init__(self, data, pad_index):\n",
    "        \n",
    "        self.data = data\n",
    "        self.pad_index = pad_index\n",
    "        self.map = {'1':0, '0':1, '-1':2}\n",
    "\n",
    "        \n",
    "    def __len__(self):\n",
    "        \n",
    "        return len(self.data)\n",
    "    \n",
    "    def pad_seq(self, sequence, max_len):\n",
    "        \n",
    "        x = sequence[0]\n",
    "        label = sequence[1]\n",
    "        \n",
    "                \n",
    "        pads_x = [self.pad_index] * (max_len - len(x))\n",
    "        \n",
    "        x += pads_x\n",
    "        \n",
    "        y = np.zeros([3])\n",
    "        y[self.map[label]] = 1\n",
    "        \n",
    "        return x, y\n",
    "    \n",
    "    \n",
    "    def make_mask(self,x):\n",
    "        return [float(i>0) for i in x]\n",
    "\n",
    "    \n",
    "    def __getitem__(self, index):\n",
    "        \n",
    "        batch = self.data[index]\n",
    "\n",
    "        max_len = max([len(sample[0]) for sample in batch])\n",
    "        \n",
    "        batch_x = []\n",
    "        batch_y = []\n",
    "        attn_masks = []\n",
    "        \n",
    "        for sample in batch:\n",
    "            x, y = self.pad_seq(sample, max_len)\n",
    "            batch_x.append(x)\n",
    "            batch_y.append(y)\n",
    "            \n",
    "            attn_masks.append(self.make_mask(x))\n",
    "        \n",
    "        batch_x = torch.tensor(batch_x).long()\n",
    "        batch_y = torch.tensor(batch_y).long()\n",
    "        \n",
    "        attn_masks = torch.tensor(attn_masks).long()\n",
    "        \n",
    "        \n",
    "        return batch_x, attn_masks, batch_y"
   ]
  },
  {
   "cell_type": "code",
   "execution_count": 385,
   "metadata": {},
   "outputs": [],
   "source": [
    "pad_index = 0"
   ]
  },
  {
   "cell_type": "code",
   "execution_count": 386,
   "metadata": {},
   "outputs": [],
   "source": [
    "train_loader = SequenceBucketingData(batches_train, pad_index)"
   ]
  },
  {
   "cell_type": "code",
   "execution_count": 387,
   "metadata": {},
   "outputs": [],
   "source": [
    "test_loader = SequenceBucketingData(batches_test, pad_index)"
   ]
  },
  {
   "cell_type": "code",
   "execution_count": null,
   "metadata": {},
   "outputs": [],
   "source": []
  },
  {
   "cell_type": "markdown",
   "metadata": {},
   "source": [
    "# Model"
   ]
  },
  {
   "cell_type": "code",
   "execution_count": 451,
   "metadata": {},
   "outputs": [],
   "source": [
    "class BertForSequenceClassification(nn.Module):\n",
    "    def __init__(self, num_labels=3):\n",
    "        super(BertForSequenceClassification, self).__init__()\n",
    "        \n",
    "        self.num_labels = num_labels\n",
    "        self.bert = BertModel.from_pretrained('bert-base-multilingual-cased')\n",
    "        self.dropout = nn.Dropout(0.1)\n",
    "        self.classifier = nn.Linear(768, self.num_labels)\n",
    "        \n",
    "        nn.init.xavier_normal_(self.classifier.weight)\n",
    "       \n",
    "    \n",
    "    \n",
    "    \n",
    "    def forward(self, input_ids, token_type_ids=None, attention_mask=None, labels=None):\n",
    "        token_embs, _ = self.bert(input_ids, token_type_ids, attention_mask)\n",
    "        token_embs = self.dropout(token_embs)\n",
    "        \n",
    "        # по-хорошему это надо делать через torch.gather\n",
    "        # а не циклом\n",
    "        # но я пока не разобралась, как его правильно использовать\n",
    "        \n",
    "        avg_for_element = []\n",
    "        \n",
    "        for i,line in enumerate(input_ids):\n",
    "            embs = [token_embs[i][ind] for ind, tok in enumerate(line) if tok==103]\n",
    "            avg_for_element.append(torch.mean(torch.stack(embs),dim=0))\n",
    "\n",
    "            \n",
    "            \n",
    "        avg_for_element = torch.stack(avg_for_element)\n",
    "        \n",
    "        logits = self.classifier(avg_for_element)\n",
    "        return logits\n",
    "    \n",
    "    \n",
    "    \n",
    "    def freeze(self):\n",
    "        for param in self.bert.parameters():\n",
    "            param.requires_grad = False\n",
    "    \n",
    "    def unfreeze(self):\n",
    "        for param in self.bert.parameters():\n",
    "            param.requires_grad = True"
   ]
  },
  {
   "cell_type": "code",
   "execution_count": 452,
   "metadata": {},
   "outputs": [],
   "source": [
    "\n",
    "model=BertForSequenceClassification()\n",
    "model=model.to(device)"
   ]
  },
  {
   "cell_type": "code",
   "execution_count": 466,
   "metadata": {},
   "outputs": [],
   "source": [
    "lrlast = .001\n",
    "lrmain = .00001\n",
    "\n",
    "\n",
    "optim = optim.Adam(\n",
    "    [\n",
    "        {\"params\":model.bert.parameters(),\"lr\": lrmain},\n",
    "        {\"params\":model.classifier.parameters(), \"lr\": lrlast},\n",
    "       \n",
    "   ])"
   ]
  },
  {
   "cell_type": "code",
   "execution_count": 459,
   "metadata": {},
   "outputs": [],
   "source": [
    "lr_scheduler = lr_scheduler.StepLR(optim, step_size=3, gamma=0.1)"
   ]
  },
  {
   "cell_type": "code",
   "execution_count": 461,
   "metadata": {},
   "outputs": [],
   "source": [
    "criterion = nn.CrossEntropyLoss(ignore_index = 0)"
   ]
  },
  {
   "cell_type": "code",
   "execution_count": 492,
   "metadata": {},
   "outputs": [],
   "source": [
    "def train(model, iterator, optimizer, criterion, epoch_number):\n",
    "    model.train()\n",
    "    progress_bar = tqdm(enumerate(iterator), total=len(iterator), desc='Epoch {}'.format(epoch_number + 1))\n",
    "    epoch_loss = 0\n",
    "    losses_list=[]\n",
    "    for i, batch in enumerate(progress_bar):\n",
    "        input_ids = batch[1][0].to(device)\n",
    "        input_mask = batch[1][1].to(device)\n",
    "        labels = batch[1][2].to(device)\n",
    "        \n",
    "        \n",
    "        optimizer.zero_grad()\n",
    "        \n",
    "        with torch.set_grad_enabled(True):\n",
    "            outputs = model(input_ids)\n",
    "            outputs = F.softmax(outputs,dim=1)\n",
    "            outputs = outputs.float()\n",
    "            \n",
    "\n",
    "            labels = torch.argmax(labels, dim=1)\n",
    "  \n",
    "            loss = criterion(outputs, labels)\n",
    "            \n",
    "            loss.backward()\n",
    "            optimizer.step()\n",
    "            \n",
    "            losses_list.append(float(loss))\n",
    "            progress_bar.set_postfix(train_loss = np.mean(losses_list[-100:]))\n",
    "            "
   ]
  },
  {
   "cell_type": "code",
   "execution_count": null,
   "metadata": {},
   "outputs": [],
   "source": []
  },
  {
   "cell_type": "code",
   "execution_count": 1,
   "metadata": {},
   "outputs": [
    {
     "ename": "NameError",
     "evalue": "name 'train' is not defined",
     "output_type": "error",
     "traceback": [
      "\u001b[0;31m---------------------------------------------------------------------------\u001b[0m",
      "\u001b[0;31mNameError\u001b[0m                                 Traceback (most recent call last)",
      "\u001b[0;32m<ipython-input-1-f8fefa57a189>\u001b[0m in \u001b[0;36m<module>\u001b[0;34m\u001b[0m\n\u001b[0;32m----> 1\u001b[0;31m \u001b[0mtrain\u001b[0m\u001b[0;34m(\u001b[0m\u001b[0mmodel\u001b[0m\u001b[0;34m,\u001b[0m \u001b[0mtrain_loader\u001b[0m\u001b[0;34m,\u001b[0m \u001b[0moptim\u001b[0m\u001b[0;34m,\u001b[0m \u001b[0mcriterion\u001b[0m\u001b[0;34m,\u001b[0m \u001b[0;36m0\u001b[0m\u001b[0;34m)\u001b[0m\u001b[0;34m\u001b[0m\u001b[0;34m\u001b[0m\u001b[0m\n\u001b[0m",
      "\u001b[0;31mNameError\u001b[0m: name 'train' is not defined"
     ]
    }
   ],
   "source": [
    "train(model, train_loader, optim, criterion, 0)"
   ]
  },
  {
   "cell_type": "code",
   "execution_count": null,
   "metadata": {},
   "outputs": [],
   "source": []
  },
  {
   "cell_type": "code",
   "execution_count": null,
   "metadata": {},
   "outputs": [],
   "source": []
  },
  {
   "cell_type": "code",
   "execution_count": null,
   "metadata": {},
   "outputs": [],
   "source": []
  },
  {
   "cell_type": "code",
   "execution_count": null,
   "metadata": {},
   "outputs": [],
   "source": []
  },
  {
   "cell_type": "code",
   "execution_count": null,
   "metadata": {},
   "outputs": [],
   "source": []
  },
  {
   "cell_type": "code",
   "execution_count": null,
   "metadata": {},
   "outputs": [],
   "source": []
  },
  {
   "cell_type": "code",
   "execution_count": null,
   "metadata": {},
   "outputs": [],
   "source": []
  },
  {
   "cell_type": "code",
   "execution_count": null,
   "metadata": {},
   "outputs": [],
   "source": []
  },
  {
   "cell_type": "code",
   "execution_count": null,
   "metadata": {},
   "outputs": [],
   "source": []
  },
  {
   "cell_type": "code",
   "execution_count": null,
   "metadata": {},
   "outputs": [],
   "source": []
  },
  {
   "cell_type": "code",
   "execution_count": null,
   "metadata": {},
   "outputs": [],
   "source": []
  }
 ],
 "metadata": {
  "kernelspec": {
   "display_name": "Python 3",
   "language": "python",
   "name": "python3"
  },
  "language_info": {
   "codemirror_mode": {
    "name": "ipython",
    "version": 3
   },
   "file_extension": ".py",
   "mimetype": "text/x-python",
   "name": "python",
   "nbconvert_exporter": "python",
   "pygments_lexer": "ipython3",
   "version": "3.7.6"
  }
 },
 "nbformat": 4,
 "nbformat_minor": 4
}
